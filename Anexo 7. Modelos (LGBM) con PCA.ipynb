{
  "nbformat": 4,
  "nbformat_minor": 0,
  "metadata": {
    "colab": {
      "provenance": [],
      "collapsed_sections": []
    },
    "kernelspec": {
      "name": "python3",
      "display_name": "Python 3"
    },
    "language_info": {
      "name": "python"
    }
  },
  "cells": [
    {
      "cell_type": "markdown",
      "source": [
        "# Algoritmos de clasificación Proyecto Integrador 2"
      ],
      "metadata": {
        "id": "162hf0dBIduG"
      }
    },
    {
      "cell_type": "code",
      "execution_count": 1,
      "metadata": {
        "colab": {
          "base_uri": "https://localhost:8080/"
        },
        "id": "hu1ujw05IXox",
        "outputId": "59408d06-59a9-4f93-a7b3-47ad3bad8712"
      },
      "outputs": [
        {
          "output_type": "stream",
          "name": "stdout",
          "text": [
            "Mounted at /content/gdrive\n"
          ]
        }
      ],
      "source": [
        "from google.colab import drive\n",
        "drive.mount('/content/gdrive', force_remount=True)"
      ]
    },
    {
      "cell_type": "markdown",
      "source": [
        "### Importar librerías"
      ],
      "metadata": {
        "id": "9a3v5GBMI1zg"
      }
    },
    {
      "cell_type": "code",
      "source": [
        "import os\n",
        "import numpy as np # linear algebra\n",
        "import pandas as pd # data processing, CSV file I/O (e.g. pd.read_csv)\n",
        "import re\n",
        "import matplotlib.pyplot as plt\n",
        "import seaborn as sns\n",
        "from scipy.stats import chi2_contingency # para ver relación entre y y variables categóricas\n",
        "from sklearn.linear_model import LogisticRegression\n",
        "from sklearn.neighbors import KNeighborsClassifier\n",
        "from sklearn.tree  import DecisionTreeClassifier\n",
        "from sklearn.ensemble import AdaBoostClassifier\n",
        "from sklearn.model_selection import train_test_split, RandomizedSearchCV, cross_val_score, GridSearchCV\n",
        "from sklearn.ensemble import RandomForestClassifier\n",
        "from sklearn.metrics import accuracy_score, f1_score,confusion_matrix, classification_report, roc_auc_score\n",
        "from sklearn.svm import SVC\n",
        "from pprint import pprint\n",
        "from subprocess import check_output\n",
        "import xgboost as xgb\n",
        "from xgboost import XGBClassifier\n",
        "import lightgbm as lgb\n",
        "import matplotlib.pyplot as plt\n",
        "from collections import OrderedDict\n",
        "\n",
        "%matplotlib inline"
      ],
      "metadata": {
        "id": "BKLJDdL-IoA8"
      },
      "execution_count": 40,
      "outputs": []
    },
    {
      "cell_type": "code",
      "source": [
        "df= pd.read_csv('/content/gdrive/MyDrive/Colab Notebooks/PI2/data_pca.csv')"
      ],
      "metadata": {
        "id": "OuqEocq8In7g"
      },
      "execution_count": 5,
      "outputs": []
    },
    {
      "cell_type": "code",
      "source": [
        "index=df['Customer_ID']\n",
        "X = df.iloc[:,1:-1]\n",
        "y = df.iloc[:,28]"
      ],
      "metadata": {
        "id": "8aZu6sHHJm85"
      },
      "execution_count": 6,
      "outputs": []
    },
    {
      "cell_type": "code",
      "source": [
        "X.head()"
      ],
      "metadata": {
        "colab": {
          "base_uri": "https://localhost:8080/",
          "height": 300
        },
        "id": "rpYSqmmDJ_22",
        "outputId": "842bb08c-acb7-4685-b516-3197081c539a"
      },
      "execution_count": 7,
      "outputs": [
        {
          "output_type": "execute_result",
          "data": {
            "text/plain": [
              "         Z1        Z2        Z3        Z4        Z5        Z6        Z7  \\\n",
              "0 -1.432269  0.093852 -2.278188 -1.407816 -0.135649 -1.996803  0.275828   \n",
              "1 -1.698989  0.418354 -1.785871 -1.361343 -0.131089 -1.898032  0.406715   \n",
              "2 -1.501422  0.479586 -1.432461 -1.360819 -0.066890 -1.854806  0.282160   \n",
              "3 -1.682258  0.101027 -2.322815 -1.393282 -0.149784 -1.995335  0.318837   \n",
              "4 -1.582761  0.624981 -1.505005 -1.382160 -0.070191 -1.849546  0.218287   \n",
              "\n",
              "         Z8        Z9       Z10  ...       Z18       Z19       Z20       Z21  \\\n",
              "0 -0.648048  1.313756 -0.713133  ...  0.575968  0.667774  0.094029 -0.093014   \n",
              "1 -0.559605  1.350804 -0.727694  ...  0.592985  0.595757 -0.238172  0.142565   \n",
              "2 -0.416728  1.355014 -0.817413  ...  0.454585  1.041039  0.708216 -0.509633   \n",
              "3 -0.708591  1.318216 -0.665006  ...  0.666473  0.514263 -0.515451  0.413239   \n",
              "4 -0.380822  1.363299 -0.871936  ...  0.384913  1.189984  1.238533 -0.868051   \n",
              "\n",
              "        Z22       Z23       Z24       Z25       Z26       Z27  \n",
              "0 -1.100186 -1.494958  1.076635 -1.688978  0.175915 -0.819142  \n",
              "1 -1.179211 -1.534768  0.976853 -1.743069  0.064623 -0.666969  \n",
              "2 -1.109486 -1.522738  1.003116 -1.690114  0.156681 -0.533545  \n",
              "3 -1.106747 -1.530995  0.928847 -1.573458  0.124982 -0.749807  \n",
              "4 -1.067568 -1.493789  1.074852 -1.702390  0.253632 -0.557135  \n",
              "\n",
              "[5 rows x 27 columns]"
            ],
            "text/html": [
              "\n",
              "  <div id=\"df-b7dc2bf2-b33e-474b-b61c-38008be659a6\">\n",
              "    <div class=\"colab-df-container\">\n",
              "      <div>\n",
              "<style scoped>\n",
              "    .dataframe tbody tr th:only-of-type {\n",
              "        vertical-align: middle;\n",
              "    }\n",
              "\n",
              "    .dataframe tbody tr th {\n",
              "        vertical-align: top;\n",
              "    }\n",
              "\n",
              "    .dataframe thead th {\n",
              "        text-align: right;\n",
              "    }\n",
              "</style>\n",
              "<table border=\"1\" class=\"dataframe\">\n",
              "  <thead>\n",
              "    <tr style=\"text-align: right;\">\n",
              "      <th></th>\n",
              "      <th>Z1</th>\n",
              "      <th>Z2</th>\n",
              "      <th>Z3</th>\n",
              "      <th>Z4</th>\n",
              "      <th>Z5</th>\n",
              "      <th>Z6</th>\n",
              "      <th>Z7</th>\n",
              "      <th>Z8</th>\n",
              "      <th>Z9</th>\n",
              "      <th>Z10</th>\n",
              "      <th>...</th>\n",
              "      <th>Z18</th>\n",
              "      <th>Z19</th>\n",
              "      <th>Z20</th>\n",
              "      <th>Z21</th>\n",
              "      <th>Z22</th>\n",
              "      <th>Z23</th>\n",
              "      <th>Z24</th>\n",
              "      <th>Z25</th>\n",
              "      <th>Z26</th>\n",
              "      <th>Z27</th>\n",
              "    </tr>\n",
              "  </thead>\n",
              "  <tbody>\n",
              "    <tr>\n",
              "      <th>0</th>\n",
              "      <td>-1.432269</td>\n",
              "      <td>0.093852</td>\n",
              "      <td>-2.278188</td>\n",
              "      <td>-1.407816</td>\n",
              "      <td>-0.135649</td>\n",
              "      <td>-1.996803</td>\n",
              "      <td>0.275828</td>\n",
              "      <td>-0.648048</td>\n",
              "      <td>1.313756</td>\n",
              "      <td>-0.713133</td>\n",
              "      <td>...</td>\n",
              "      <td>0.575968</td>\n",
              "      <td>0.667774</td>\n",
              "      <td>0.094029</td>\n",
              "      <td>-0.093014</td>\n",
              "      <td>-1.100186</td>\n",
              "      <td>-1.494958</td>\n",
              "      <td>1.076635</td>\n",
              "      <td>-1.688978</td>\n",
              "      <td>0.175915</td>\n",
              "      <td>-0.819142</td>\n",
              "    </tr>\n",
              "    <tr>\n",
              "      <th>1</th>\n",
              "      <td>-1.698989</td>\n",
              "      <td>0.418354</td>\n",
              "      <td>-1.785871</td>\n",
              "      <td>-1.361343</td>\n",
              "      <td>-0.131089</td>\n",
              "      <td>-1.898032</td>\n",
              "      <td>0.406715</td>\n",
              "      <td>-0.559605</td>\n",
              "      <td>1.350804</td>\n",
              "      <td>-0.727694</td>\n",
              "      <td>...</td>\n",
              "      <td>0.592985</td>\n",
              "      <td>0.595757</td>\n",
              "      <td>-0.238172</td>\n",
              "      <td>0.142565</td>\n",
              "      <td>-1.179211</td>\n",
              "      <td>-1.534768</td>\n",
              "      <td>0.976853</td>\n",
              "      <td>-1.743069</td>\n",
              "      <td>0.064623</td>\n",
              "      <td>-0.666969</td>\n",
              "    </tr>\n",
              "    <tr>\n",
              "      <th>2</th>\n",
              "      <td>-1.501422</td>\n",
              "      <td>0.479586</td>\n",
              "      <td>-1.432461</td>\n",
              "      <td>-1.360819</td>\n",
              "      <td>-0.066890</td>\n",
              "      <td>-1.854806</td>\n",
              "      <td>0.282160</td>\n",
              "      <td>-0.416728</td>\n",
              "      <td>1.355014</td>\n",
              "      <td>-0.817413</td>\n",
              "      <td>...</td>\n",
              "      <td>0.454585</td>\n",
              "      <td>1.041039</td>\n",
              "      <td>0.708216</td>\n",
              "      <td>-0.509633</td>\n",
              "      <td>-1.109486</td>\n",
              "      <td>-1.522738</td>\n",
              "      <td>1.003116</td>\n",
              "      <td>-1.690114</td>\n",
              "      <td>0.156681</td>\n",
              "      <td>-0.533545</td>\n",
              "    </tr>\n",
              "    <tr>\n",
              "      <th>3</th>\n",
              "      <td>-1.682258</td>\n",
              "      <td>0.101027</td>\n",
              "      <td>-2.322815</td>\n",
              "      <td>-1.393282</td>\n",
              "      <td>-0.149784</td>\n",
              "      <td>-1.995335</td>\n",
              "      <td>0.318837</td>\n",
              "      <td>-0.708591</td>\n",
              "      <td>1.318216</td>\n",
              "      <td>-0.665006</td>\n",
              "      <td>...</td>\n",
              "      <td>0.666473</td>\n",
              "      <td>0.514263</td>\n",
              "      <td>-0.515451</td>\n",
              "      <td>0.413239</td>\n",
              "      <td>-1.106747</td>\n",
              "      <td>-1.530995</td>\n",
              "      <td>0.928847</td>\n",
              "      <td>-1.573458</td>\n",
              "      <td>0.124982</td>\n",
              "      <td>-0.749807</td>\n",
              "    </tr>\n",
              "    <tr>\n",
              "      <th>4</th>\n",
              "      <td>-1.582761</td>\n",
              "      <td>0.624981</td>\n",
              "      <td>-1.505005</td>\n",
              "      <td>-1.382160</td>\n",
              "      <td>-0.070191</td>\n",
              "      <td>-1.849546</td>\n",
              "      <td>0.218287</td>\n",
              "      <td>-0.380822</td>\n",
              "      <td>1.363299</td>\n",
              "      <td>-0.871936</td>\n",
              "      <td>...</td>\n",
              "      <td>0.384913</td>\n",
              "      <td>1.189984</td>\n",
              "      <td>1.238533</td>\n",
              "      <td>-0.868051</td>\n",
              "      <td>-1.067568</td>\n",
              "      <td>-1.493789</td>\n",
              "      <td>1.074852</td>\n",
              "      <td>-1.702390</td>\n",
              "      <td>0.253632</td>\n",
              "      <td>-0.557135</td>\n",
              "    </tr>\n",
              "  </tbody>\n",
              "</table>\n",
              "<p>5 rows × 27 columns</p>\n",
              "</div>\n",
              "      <button class=\"colab-df-convert\" onclick=\"convertToInteractive('df-b7dc2bf2-b33e-474b-b61c-38008be659a6')\"\n",
              "              title=\"Convert this dataframe to an interactive table.\"\n",
              "              style=\"display:none;\">\n",
              "        \n",
              "  <svg xmlns=\"http://www.w3.org/2000/svg\" height=\"24px\"viewBox=\"0 0 24 24\"\n",
              "       width=\"24px\">\n",
              "    <path d=\"M0 0h24v24H0V0z\" fill=\"none\"/>\n",
              "    <path d=\"M18.56 5.44l.94 2.06.94-2.06 2.06-.94-2.06-.94-.94-2.06-.94 2.06-2.06.94zm-11 1L8.5 8.5l.94-2.06 2.06-.94-2.06-.94L8.5 2.5l-.94 2.06-2.06.94zm10 10l.94 2.06.94-2.06 2.06-.94-2.06-.94-.94-2.06-.94 2.06-2.06.94z\"/><path d=\"M17.41 7.96l-1.37-1.37c-.4-.4-.92-.59-1.43-.59-.52 0-1.04.2-1.43.59L10.3 9.45l-7.72 7.72c-.78.78-.78 2.05 0 2.83L4 21.41c.39.39.9.59 1.41.59.51 0 1.02-.2 1.41-.59l7.78-7.78 2.81-2.81c.8-.78.8-2.07 0-2.86zM5.41 20L4 18.59l7.72-7.72 1.47 1.35L5.41 20z\"/>\n",
              "  </svg>\n",
              "      </button>\n",
              "      \n",
              "  <style>\n",
              "    .colab-df-container {\n",
              "      display:flex;\n",
              "      flex-wrap:wrap;\n",
              "      gap: 12px;\n",
              "    }\n",
              "\n",
              "    .colab-df-convert {\n",
              "      background-color: #E8F0FE;\n",
              "      border: none;\n",
              "      border-radius: 50%;\n",
              "      cursor: pointer;\n",
              "      display: none;\n",
              "      fill: #1967D2;\n",
              "      height: 32px;\n",
              "      padding: 0 0 0 0;\n",
              "      width: 32px;\n",
              "    }\n",
              "\n",
              "    .colab-df-convert:hover {\n",
              "      background-color: #E2EBFA;\n",
              "      box-shadow: 0px 1px 2px rgba(60, 64, 67, 0.3), 0px 1px 3px 1px rgba(60, 64, 67, 0.15);\n",
              "      fill: #174EA6;\n",
              "    }\n",
              "\n",
              "    [theme=dark] .colab-df-convert {\n",
              "      background-color: #3B4455;\n",
              "      fill: #D2E3FC;\n",
              "    }\n",
              "\n",
              "    [theme=dark] .colab-df-convert:hover {\n",
              "      background-color: #434B5C;\n",
              "      box-shadow: 0px 1px 3px 1px rgba(0, 0, 0, 0.15);\n",
              "      filter: drop-shadow(0px 1px 2px rgba(0, 0, 0, 0.3));\n",
              "      fill: #FFFFFF;\n",
              "    }\n",
              "  </style>\n",
              "\n",
              "      <script>\n",
              "        const buttonEl =\n",
              "          document.querySelector('#df-b7dc2bf2-b33e-474b-b61c-38008be659a6 button.colab-df-convert');\n",
              "        buttonEl.style.display =\n",
              "          google.colab.kernel.accessAllowed ? 'block' : 'none';\n",
              "\n",
              "        async function convertToInteractive(key) {\n",
              "          const element = document.querySelector('#df-b7dc2bf2-b33e-474b-b61c-38008be659a6');\n",
              "          const dataTable =\n",
              "            await google.colab.kernel.invokeFunction('convertToInteractive',\n",
              "                                                     [key], {});\n",
              "          if (!dataTable) return;\n",
              "\n",
              "          const docLinkHtml = 'Like what you see? Visit the ' +\n",
              "            '<a target=\"_blank\" href=https://colab.research.google.com/notebooks/data_table.ipynb>data table notebook</a>'\n",
              "            + ' to learn more about interactive tables.';\n",
              "          element.innerHTML = '';\n",
              "          dataTable['output_type'] = 'display_data';\n",
              "          await google.colab.output.renderOutput(dataTable, element);\n",
              "          const docLink = document.createElement('div');\n",
              "          docLink.innerHTML = docLinkHtml;\n",
              "          element.appendChild(docLink);\n",
              "        }\n",
              "      </script>\n",
              "    </div>\n",
              "  </div>\n",
              "  "
            ]
          },
          "metadata": {},
          "execution_count": 7
        }
      ]
    },
    {
      "cell_type": "code",
      "source": [
        "from sklearn.model_selection import GroupShuffleSplit\n",
        "gss = GroupShuffleSplit(n_splits=2, test_size=0.3, random_state=0)\n",
        "for train_index, test_index in gss.split(X, groups=index):\n",
        "    print(\"Train:\", train_index, \"Test:\", test_index)\n",
        "    X_train = X.iloc[train_index, :]\n",
        "    y_train = y[train_index]\n",
        "    X_test = X.iloc[test_index, :]\n",
        "    y_test = y[test_index]\n",
        "    "
      ],
      "metadata": {
        "colab": {
          "base_uri": "https://localhost:8080/"
        },
        "id": "SzFDccSKKCCL",
        "outputId": "09fdcc14-c078-4f0b-f451-1dc81a28357a"
      },
      "execution_count": 8,
      "outputs": [
        {
          "output_type": "stream",
          "name": "stdout",
          "text": [
            "Train: [    0     1     2 ... 99989 99990 99991] Test: [   16    17    18 ... 99997 99998 99999]\n",
            "Train: [    0     1     2 ... 99997 99998 99999] Test: [    8     9    10 ... 99949 99950 99951]\n"
          ]
        }
      ]
    },
    {
      "cell_type": "markdown",
      "source": [
        "### LGBM"
      ],
      "metadata": {
        "id": "-EWmRdtRQQ9N"
      }
    },
    {
      "cell_type": "code",
      "source": [
        "LGBM = lgb.LGBMClassifier(random_state=42)\n",
        "LGBM.fit(X_train,y_train)\n",
        "y_pred = LGBM.predict(X_test)\n",
        "print(confusion_matrix(y_test,y_pred))\n",
        "print(classification_report(y_pred,y_test,digits=5))"
      ],
      "metadata": {
        "colab": {
          "base_uri": "https://localhost:8080/"
        },
        "id": "wDsADL2iPx4g",
        "outputId": "d53a811e-da25-4e69-cd35-a93f59d1bdf2"
      },
      "execution_count": 46,
      "outputs": [
        {
          "output_type": "stream",
          "name": "stdout",
          "text": [
            "[[ 5118  2891   664]\n",
            " [ 2564 11841  1788]\n",
            " [   98  2546  2490]]\n",
            "              precision    recall  f1-score   support\n",
            "\n",
            "           0    0.59011   0.65784   0.62214      7780\n",
            "           1    0.73124   0.68532   0.70754     17278\n",
            "           2    0.48500   0.50384   0.49424      4942\n",
            "\n",
            "    accuracy                        0.64830     30000\n",
            "   macro avg    0.60212   0.61567   0.60797     30000\n",
            "weighted avg    0.65408   0.64830   0.65025     30000\n",
            "\n"
          ]
        }
      ]
    },
    {
      "cell_type": "code",
      "source": [
        "LGBM2 = lgb.LGBMClassifier(random_state=42,n_jobs=8,max_depth=15,n_estimators=500,objective='multiclass',class_weight='balanced',learning_rate=0.01)\n",
        "LGBM2.fit(X_train,y_train)\n",
        "y_pred = LGBM2.predict(X_test)\n",
        "print(confusion_matrix(y_test,y_pred))\n",
        "print(classification_report(y_pred,y_test,digits=5))"
      ],
      "metadata": {
        "colab": {
          "base_uri": "https://localhost:8080/"
        },
        "id": "EcuOIBy-QsjV",
        "outputId": "01586266-9ca1-4663-c490-97b690957614"
      },
      "execution_count": 47,
      "outputs": [
        {
          "output_type": "stream",
          "name": "stdout",
          "text": [
            "[[6122 1279 1272]\n",
            " [3714 8574 3905]\n",
            " [ 184 1128 3822]]\n",
            "              precision    recall  f1-score   support\n",
            "\n",
            "           0    0.70587   0.61098   0.65500     10020\n",
            "           1    0.52949   0.78080   0.63104     10981\n",
            "           2    0.74445   0.42471   0.54086      8999\n",
            "\n",
            "    accuracy                        0.61727     30000\n",
            "   macro avg    0.65994   0.60550   0.60897     30000\n",
            "weighted avg    0.65288   0.61727   0.61200     30000\n",
            "\n"
          ]
        }
      ]
    },
    {
      "cell_type": "code",
      "source": [
        "CVSLGBM2 = cross_val_score(LGBM2, X_train,y_train, cv=5,scoring='f1_macro')\n",
        "print([CVSLGBM2,np.average(CVSLGBM2)])"
      ],
      "metadata": {
        "colab": {
          "base_uri": "https://localhost:8080/"
        },
        "id": "AXIwnSdFRo8Z",
        "outputId": "d20d30de-7f44-4d91-e513-2b28a9f318d0"
      },
      "execution_count": 48,
      "outputs": [
        {
          "output_type": "stream",
          "name": "stdout",
          "text": [
            "[array([0.61584002, 0.6090957 , 0.6065875 , 0.61181131, 0.61872391]), 0.6124116865551537]\n"
          ]
        }
      ]
    }
  ]
}